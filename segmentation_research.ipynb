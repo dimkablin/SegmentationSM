{
 "cells": [
  {
   "cell_type": "markdown",
   "source": [
    "<p style=\"align: center;\"><img src=\"https://raw.githubusercontent.com/dimkablin/SegmentationSM/master/src/logo2.jpg\", width=550, height=300></p>\n",
    "\n",
    "<h1 style=\"text-align: center;\"><b>Backend SM</b></h1>\n",
    "<h2 style=\"text-align: center;\"><b>Поиск архитекутуры для сегментации объекта для проекта SM </b></h2>"
   ],
   "metadata": {
    "collapsed": false
   }
  },
  {
   "cell_type": "code",
   "execution_count": 2,
   "outputs": [
    {
     "name": "stdout",
     "output_type": "stream",
     "text": [
      "DATASET_DIR\n",
      "BACKGROUND_DATASET\n"
     ]
    }
   ],
   "source": [
    "import os\n",
    "from LookGenerator.config.config import DatasetConfig\n",
    "\n",
    "config = DatasetConfig(os.environ)\n",
    "config.show_details()"
   ],
   "metadata": {
    "collapsed": false,
    "ExecuteTime": {
     "start_time": "2023-05-04T18:30:22.242953Z",
     "end_time": "2023-05-04T18:30:22.298961Z"
    }
   }
  },
  {
   "cell_type": "markdown",
   "source": [
    "## Инициализируем датасет и dataloader"
   ],
   "metadata": {
    "collapsed": false
   }
  },
  {
   "cell_type": "code",
   "execution_count": 1,
   "outputs": [],
   "source": [
    "from torchvision.transforms import ToTensor, ToPILImage\n",
    "import torch\n",
    "import numpy as np\n",
    "\n",
    "from PIL import Image\n",
    "from torch.utils.data import Dataset"
   ],
   "metadata": {
    "collapsed": false,
    "ExecuteTime": {
     "start_time": "2023-05-04T18:30:13.251029Z",
     "end_time": "2023-05-04T18:30:16.992324Z"
    }
   }
  },
  {
   "cell_type": "code",
   "execution_count": null,
   "outputs": [],
   "source": [
    "class OblDataset(Dataset):\n",
    "    \"\"\" Dataset for Segmentation upper body \"\"\"\n",
    "\n",
    "    def __init__(self, image_root: str, mask_root: str, extension = \"png\"):\n",
    "        \"\"\"\n",
    "        Args:\n",
    "            image_root (str) : path to images\n",
    "            mask_root (str) : images directory name\n",
    "            extension (str) : extension of any file\n",
    "        \"\"\"\n",
    "\n",
    "        super.__init__()\n",
    "\n",
    "        self.image_root = image_root\n",
    "        self.mask_root = mask_root\n",
    "        self.extension = extension\n",
    "\n",
    "        names_of_files = os.listdir(self.image_root)\n",
    "        self._files_list = [name.split('.')[0] for name in names_of_files]\n",
    "\n",
    "    def __getitem__(self, idx: int) -> (np.array, np.array):\n",
    "        \"\"\"\n",
    "        Opening image by index that considered self.names_of_files variable\n",
    "\n",
    "        Args:\n",
    "            idx: The index of data sample\n",
    "\n",
    "        Returns:\n",
    "            Return np.array that represent image\n",
    "            np.array that represent mask\n",
    "        \"\"\"\n",
    "\n",
    "        image = np.asarray(\n",
    "            Image.open(os.path.join(\n",
    "                self.image_root,\n",
    "                self._files_list[idx])\n",
    "            ).tobytes()\n",
    "        )\n",
    "\n",
    "        mask = np.asarray(\n",
    "            Image.open(os.path.join(\n",
    "                self.mask_root,\n",
    "                self._files_list[idx])\n",
    "            ).tobytes()\n",
    "        )\n",
    "\n",
    "        return image, mask\n",
    "\n",
    "    def __get_files_list__(self):\n",
    "        \"\"\"\n",
    "        Returning list of file\n",
    "\n",
    "        Returns:\n",
    "            list with names of files\n",
    "        \"\"\"\n",
    "\n",
    "        return self._files_list\n",
    "\n",
    "    def __len__(self):\n",
    "        \"\"\"\n",
    "        Return count of files\n",
    "\n",
    "        Return:\n",
    "            length of self._files_list\n",
    "        \"\"\"\n",
    "\n",
    "        return len(self._files_list)\n"
   ],
   "metadata": {
    "collapsed": false
   }
  },
  {
   "cell_type": "code",
   "execution_count": null,
   "metadata": {
    "collapsed": true
   },
   "outputs": [],
   "source": [
    "from skimage.transform import resize\n",
    "\n",
    "size = (256, 1092)\n",
    "\n"
   ]
  },
  {
   "cell_type": "markdown",
   "source": [
    "## Реализируем основной цикл обучения"
   ],
   "metadata": {
    "collapsed": false
   }
  },
  {
   "cell_type": "code",
   "execution_count": null,
   "outputs": [],
   "source": [
    "import os\n",
    "import time"
   ],
   "metadata": {
    "collapsed": false
   }
  },
  {
   "cell_type": "code",
   "execution_count": null,
   "outputs": [],
   "source": [
    "def train(model, optim, loss, epochs, dataloaders):\n",
    "    loss_history = []\n",
    "    iou_history = []\n",
    "    time_history = []\n",
    "\n",
    "    running_loss = 0\n",
    "    running_iou = 0\n",
    "\n",
    "    for epoch in range(epochs):\n",
    "        since = time.time()\n",
    "        for phase in ['train', 'val']:\n",
    "            if phase == 'train':\n",
    "                pass\n",
    "\n",
    "        time_history.append(time.time() - since)\n",
    "\n"
   ],
   "metadata": {
    "collapsed": false
   }
  },
  {
   "cell_type": "markdown",
   "source": [
    "# Architectures\n",
    "## 1. our Unet"
   ],
   "metadata": {
    "collapsed": false
   }
  },
  {
   "cell_type": "code",
   "execution_count": null,
   "outputs": [],
   "source": [],
   "metadata": {
    "collapsed": false
   }
  },
  {
   "cell_type": "markdown",
   "source": [
    "## 2. SegNet"
   ],
   "metadata": {
    "collapsed": false
   }
  },
  {
   "cell_type": "code",
   "execution_count": null,
   "outputs": [],
   "source": [],
   "metadata": {
    "collapsed": false
   }
  },
  {
   "cell_type": "markdown",
   "source": [
    "## 3. a few Unet's arhc"
   ],
   "metadata": {
    "collapsed": false
   }
  },
  {
   "cell_type": "code",
   "execution_count": null,
   "outputs": [],
   "source": [],
   "metadata": {
    "collapsed": false
   }
  }
 ],
 "metadata": {
  "kernelspec": {
   "display_name": "Python 3",
   "language": "python",
   "name": "python3"
  },
  "language_info": {
   "codemirror_mode": {
    "name": "ipython",
    "version": 2
   },
   "file_extension": ".py",
   "mimetype": "text/x-python",
   "name": "python",
   "nbconvert_exporter": "python",
   "pygments_lexer": "ipython2",
   "version": "2.7.6"
  }
 },
 "nbformat": 4,
 "nbformat_minor": 0
}
